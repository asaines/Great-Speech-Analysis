{
 "cells": [
  {
   "cell_type": "code",
   "execution_count": null,
   "id": "d3d38954",
   "metadata": {},
   "outputs": [],
   "source": [
    "# use a for loop for all speeches. add the # and type.\n",
    "sentiment_blob_speech = pd.DataFrame( columns=['speech_number', 'type','position', 'sentiment_blob'])\n",
    "df_speech_10sp=[]\n",
    "\n",
    "for index, row in df.iterrows():\n",
    "    df_speech = []\n",
    "    df_speech_10sp=[]\n",
    "    cuts=0\n",
    "    txt=' '.join(row[\"content\"].split('\\n'))\n",
    "    sentences=[sent.text for sent in nlp(txt).sents]\n",
    "\n",
    "\n",
    "    for sent in sentences:\n",
    "        doc=nlp(sent)\n",
    "        word_tokens = [token.text for token in doc]  \n",
    "        filtered_sentence = [w for w in word_tokens if not w in stop_words]  \n",
    "        x = ''\n",
    "        for word in filtered_sentence:\n",
    "            x +=' '+word\n",
    "        df_speech.append(x)\n",
    "\n",
    "\n",
    "    cuts=math.floor(len(df_speech)/10)\n",
    "\n",
    "    for i in range(9):\n",
    "        df_speech_10sp.append(''.join(df_speech[i*cuts:(i+1)*cuts]))\n",
    "    df_speech_10sp.append(''.join(df_speech[(i+1)*cuts+1:]))\n",
    "\n",
    "    df_sentiment = pd.DataFrame(df_speech_10sp)\n",
    "    df_sentiment.columns = ['text']\n",
    "    df_sentiment['sentiment_blob'] = ''\n",
    "    df_sentiment.reset_index(inplace=True)\n",
    "    df_sentiment = df_sentiment.rename(columns = {'index':'position'})\n",
    "    df_sentiment['sentiment_blob'] = df_sentiment['text'].apply(lambda x : blob_sentiment(x))\n",
    "    df_sentiment['speech_number']=row[\"speech_i\"]\n",
    "    df_sentiment['type']=row[\"label\"]\n",
    "#    sentiment_blob_speech=sentiment_blob_speech.append(df_sentiment[['speech_number', 'type','position', 'sentiment_blob']])\n",
    "    sentiment_blob_speech = pd.concat([sentiment_blob_speech, df_sentiment[['speech_number', 'type','position', 'sentiment_blob']]])"
   ]
  }
 ],
 "metadata": {
  "kernelspec": {
   "display_name": "Python 3 (ipykernel)",
   "language": "python",
   "name": "python3"
  },
  "language_info": {
   "codemirror_mode": {
    "name": "ipython",
    "version": 3
   },
   "file_extension": ".py",
   "mimetype": "text/x-python",
   "name": "python",
   "nbconvert_exporter": "python",
   "pygments_lexer": "ipython3",
   "version": "3.9.5"
  },
  "toc": {
   "base_numbering": 1,
   "nav_menu": {},
   "number_sections": true,
   "sideBar": true,
   "skip_h1_title": false,
   "title_cell": "Table of Contents",
   "title_sidebar": "Contents",
   "toc_cell": false,
   "toc_position": {},
   "toc_section_display": true,
   "toc_window_display": false
  },
  "varInspector": {
   "cols": {
    "lenName": 16,
    "lenType": 16,
    "lenVar": 40
   },
   "kernels_config": {
    "python": {
     "delete_cmd_postfix": "",
     "delete_cmd_prefix": "del ",
     "library": "var_list.py",
     "varRefreshCmd": "print(var_dic_list())"
    },
    "r": {
     "delete_cmd_postfix": ") ",
     "delete_cmd_prefix": "rm(",
     "library": "var_list.r",
     "varRefreshCmd": "cat(var_dic_list()) "
    }
   },
   "types_to_exclude": [
    "module",
    "function",
    "builtin_function_or_method",
    "instance",
    "_Feature"
   ],
   "window_display": false
  }
 },
 "nbformat": 4,
 "nbformat_minor": 5
}
