{
 "cells": [
  {
   "cell_type": "code",
   "execution_count": null,
   "id": "851a2bd9",
   "metadata": {},
   "outputs": [],
   "source": [
    "%run Dataset.py\n",
    "%run preprocessors.py\n",
    "%run Speech.py    \n",
    "%run DataLoader.py\n",
    "import os\n",
    "import shap\n",
    "import numpy as np\n",
    "import pandas as pd\n",
    "import seaborn as sns\n",
    "from sklearn import svm\n",
    "from sklearn import metrics\n",
    "from preprocessors import *\n",
    "from sklearn.metrics import *\n",
    "from datetime import datetime\n",
    "import matplotlib.pyplot as plt\n",
    "from Dataset import SpeechDataset\n",
    "from DataLoader import DataLoader\n",
    "from xgboost import XGBClassifier\n",
    "from sklearn.preprocessing import *\n",
    "from matplotlib.pyplot import figure\n",
    "from sklearn.pipeline import Pipeline\n",
    "from sklearn.model_selection import KFold\n",
    "from sklearn.model_selection import GridSearchCV\n",
    "from sklearn.ensemble import RandomForestClassifier\n",
    "from sklearn.linear_model import LogisticRegression\n",
    "from sklearn.model_selection import train_test_split\n",
    "\n",
    "usr_agent='Mozilla/5.0 (Windows NT 10.0; Win64; x64) AppleWebKit/537.36 (KHTML, like Gecko) Chrome/105.0.0.0 Safari/537.36'\n",
    "base_url='https://www.americanrhetoric.com/'\n",
    "speeches_dir = f\"{cwd}/speeches/\"\n",
    "scrape_speeches(base_url, speeches_dir, usr_agent)\n",
    "\n",
    "cwd = os.getcwd()\n",
    "#dataset_types = [\"important\", \"typical\"]\n",
    "dataset_types = [\"important\"]\n",
    "resources_dir = f\"{cwd}/resources\"\n",
    "saving_dir = f\"{cwd}/resources/dataset_all.csv\"\n",
    "\n",
    "from tqdm import tqdm\n",
    "if not os.path.exists(saving_dir):\n",
    "    df_dict = {\n",
    "        \"speaker\": [], \"title\": [], \"year\": [], \"content\": [],\n",
    "        \"anger\": [], \"disgust\": [], \"disgust\": [], \"joy\": [], \"neutral\": [], \"sadness\": [], \"surprise\": [],\n",
    "        \"polarity\": [], \"subjectivity\": [], \"complexity\": [], \"lexical_richness\": [],\n",
    "        \"entities_proportion_in_speech\": [], \"imagery_proportion_in_speech\": [],\n",
    "        \"stopwords_proportion_in_speech\": [], \"mean_sentence_length\": [],\n",
    "        \"label\": []\n",
    "    }\n",
    "\n",
    "    imagery_words = pd.read_csv(\"resources/visual_words.csv\", header=None)\n",
    "    imagery_words = list(imagery_words[0].array)\n",
    "    stop_words = list(spacy.load(\"en_core_web_md\").Defaults.stop_words)\n",
    "\n",
    "    for dataset_type in dataset_types:\n",
    "        path = f\"{cwd}/dataset/{dataset_type}\"\n",
    "        dataset = SpeechDataset(path)\n",
    "        dataloader = DataLoader(dataset)\n",
    "        with tqdm(total=len(dataloader.dataset)) as progress_bar:\n",
    "            for speech in dataloader:\n",
    "                for key in df_dict.keys():\n",
    "                    try:\n",
    "                        df_dict[key].append(getattr(speech, f\"get_{key}\")())\n",
    "                    except:\n",
    "                        pass\n",
    "                emotions = speech.get_emotion_scores(return_all_scores=True)[0]\n",
    "                for emotion in emotions:\n",
    "                    df_dict[emotion[\"label\"]].append(emotion[\"score\"])\n",
    "\n",
    "                df_dict[\"entities_proportion_in_speech\"].append(speech.get_proportion_in_speech(speech.get_entities()))\n",
    "                df_dict[\"imagery_proportion_in_speech\"].append(speech.get_proportion_in_speech(imagery_words))\n",
    "                df_dict[\"stopwords_proportion_in_speech\"].append(speech.get_proportion_in_speech(stop_words))\n",
    "                if dataset_type == \"important\":\n",
    "                    df_dict[\"label\"].append(1.0)\n",
    "                else:\n",
    "                    df_dict[\"label\"].append(0.0)\n",
    "                progress_bar.update(1)\n",
    "\n",
    "    if not os.path.exists(resources_dir):\n",
    "        os.mkdir(resources_dir)\n",
    "    df = pd.DataFrame(df_dict)\n",
    "    df.to_csv(saving_dir)\n",
    "else:\n",
    "    df = pd.read_csv(saving_dir)\n"
   ]
  }
 ],
 "metadata": {
  "kernelspec": {
   "display_name": "Python 3 (ipykernel)",
   "language": "python",
   "name": "python3"
  },
  "language_info": {
   "codemirror_mode": {
    "name": "ipython",
    "version": 3
   },
   "file_extension": ".py",
   "mimetype": "text/x-python",
   "name": "python",
   "nbconvert_exporter": "python",
   "pygments_lexer": "ipython3",
   "version": "3.9.5"
  },
  "toc": {
   "base_numbering": 1,
   "nav_menu": {},
   "number_sections": true,
   "sideBar": true,
   "skip_h1_title": false,
   "title_cell": "Table of Contents",
   "title_sidebar": "Contents",
   "toc_cell": false,
   "toc_position": {},
   "toc_section_display": true,
   "toc_window_display": false
  },
  "varInspector": {
   "cols": {
    "lenName": 16,
    "lenType": 16,
    "lenVar": 40
   },
   "kernels_config": {
    "python": {
     "delete_cmd_postfix": "",
     "delete_cmd_prefix": "del ",
     "library": "var_list.py",
     "varRefreshCmd": "print(var_dic_list())"
    },
    "r": {
     "delete_cmd_postfix": ") ",
     "delete_cmd_prefix": "rm(",
     "library": "var_list.r",
     "varRefreshCmd": "cat(var_dic_list()) "
    }
   },
   "types_to_exclude": [
    "module",
    "function",
    "builtin_function_or_method",
    "instance",
    "_Feature"
   ],
   "window_display": false
  }
 },
 "nbformat": 4,
 "nbformat_minor": 5
}
